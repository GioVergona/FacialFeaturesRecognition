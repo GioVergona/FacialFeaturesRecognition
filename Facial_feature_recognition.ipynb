{
  "nbformat": 4,
  "nbformat_minor": 0,
  "metadata": {
    "colab": {
      "provenance": [],
      "include_colab_link": true
    },
    "kernelspec": {
      "name": "python3",
      "display_name": "Python 3"
    },
    "language_info": {
      "name": "python"
    },
    "accelerator": "GPU"
  },
  "cells": [
    {
      "cell_type": "markdown",
      "metadata": {
        "id": "view-in-github",
        "colab_type": "text"
      },
      "source": [
        "<a href=\"https://colab.research.google.com/github/GioVergona/FacialFeaturesRecognition/blob/main/Facial_feature_recognition.ipynb\" target=\"_parent\"><img src=\"https://colab.research.google.com/assets/colab-badge.svg\" alt=\"Open In Colab\"/></a>"
      ]
    },
    {
      "cell_type": "markdown",
      "source": [
        "**1. Import di librerie e download dei dati**"
      ],
      "metadata": {
        "id": "ZKipcAGVllIY"
      }
    },
    {
      "cell_type": "markdown",
      "source": [
        "Si importano le librerie di base e si accede al Drive dove è stato caricato l'intero Dataset **CelebA** di immagini di volti"
      ],
      "metadata": {
        "id": "_LSCXKLxsG_o"
      }
    },
    {
      "cell_type": "code",
      "execution_count": null,
      "metadata": {
        "id": "kPYKx3nh5TT_"
      },
      "outputs": [],
      "source": [
        "%reset -f\n",
        "import numpy as np\n",
        "import skimage.io as io\n",
        "import matplotlib.pyplot as plt"
      ]
    },
    {
      "cell_type": "code",
      "source": [
        "from google.colab import drive\n",
        "drive.mount('/content/drive')\n",
        "!unzip -q -n /content/drive/MyDrive/Progetto/img_align_celeba.zip"
      ],
      "metadata": {
        "id": "Ea_u-otLPdE6",
        "colab": {
          "base_uri": "https://localhost:8080/"
        },
        "outputId": "5de908a6-3032-43d8-acb7-2960befbcdc0"
      },
      "execution_count": null,
      "outputs": [
        {
          "output_type": "stream",
          "name": "stdout",
          "text": [
            "Mounted at /content/drive\n"
          ]
        }
      ]
    },
    {
      "cell_type": "markdown",
      "source": [
        " **2. Preparazione dei dati**"
      ],
      "metadata": {
        "id": "uZLfYRg1i7xq"
      }
    },
    {
      "cell_type": "markdown",
      "source": [
        "Si estraggono dal file *list_attr_celeba.txt* le 40 labels, i nomi dei file .jpg e per ognuno di essi i valori degli attributi corrispondenti\n",
        "\n",
        "(1 = presente o -1 = non presente)"
      ],
      "metadata": {
        "id": "U5R4xl3FsE1k"
      }
    },
    {
      "cell_type": "code",
      "source": [
        "import linecache\n",
        "\n",
        "#Utilizzo linecache per la lettura di una singola riga da un file .txt\n",
        "\n",
        "#La funzione header_extraction estrae da un file .txt la riga contenente i soli nomi delle labels e ritorna una lista\n",
        "\n",
        "def header_extraction(header):\n",
        "  first_line = linecache.getline('/content/drive/MyDrive/Progetto/list_attr_celeba.txt',2)  #Estraggo la seconda riga come un'unica stringa\n",
        "  for word in first_line.split():   #La funzione split separa ogni parola della stringa estratta\n",
        "    header.append(word)             #La parola viene posta in coda alla lista da restituire\n",
        "\n",
        "#La funzione lines_extraction estrae da un file .txt le successive righe contenenti i nomi dei file e relativi attributi\n",
        "\n",
        "def lines_extraction(data):\n",
        "  with open('/content/drive/MyDrive/Progetto/list_attr_celeba.txt', 'r') as f:\n",
        "    list_rows = f.readlines()\n",
        "    for line in list_rows[2:101300]:\n",
        "      row = list()     #Lista temporanea che conterrà le singole parole presenti in ogni riga del file\n",
        "      for word in line.split():\n",
        "        row.append(word)\n",
        "      data.append(row)    #Si genera così una lista di liste: ogni lista interna contiene nome e attributi della singola immagine\n",
        "\n",
        "#N.B. Il Dataset è stato dimezzato per ridurre le tempistiche in fase di addestramento"
      ],
      "metadata": {
        "id": "8t2F_2spX4gb"
      },
      "execution_count": null,
      "outputs": []
    },
    {
      "cell_type": "code",
      "source": [
        "header = list()\n",
        "header.append('File_name')    #Si aggiunge una colonna all'header per i nomi dei file\n",
        "header_extraction(header)\n",
        "\n",
        "data = list()\n",
        "lines_extraction(data)\n",
        "\n",
        "for i in range(len(data)):    #Si cambiano tutti i -1 con degli 0\n",
        "  for j in range(len(data[i])):\n",
        "    if data[i][j] == '-1':\n",
        "      data[i][j]='0'"
      ],
      "metadata": {
        "id": "S46L9QuKQnzJ"
      },
      "execution_count": null,
      "outputs": []
    },
    {
      "cell_type": "markdown",
      "source": [
        "Si generano 3 file CSV, corrispondenti a **training-set**, **validation-set**, **test-set**"
      ],
      "metadata": {
        "id": "_pZ3ay3V3dAg"
      }
    },
    {
      "cell_type": "code",
      "source": [
        "import csv\n",
        "\n",
        "#Usando il prefisso with apriamo un file (in scrittura dato che spedifichiamo il parametro 'w') e non è necessario esplicitarne la chiusura (evitiamo di scirvere f.close())\n",
        "#Writer è l'oggeto che permette la scrittura del file\n",
        "#Writerow e writerows sono i due metodi che scrivono 1 o più righe\n",
        "\n",
        "with open('train.csv', 'w') as f:\n",
        "  writer=csv.writer(f)\n",
        "  writer.writerow(header)\n",
        "  writer.writerows(data[0:70910])\n",
        "\n",
        "with open('valid.csv', 'w') as f:\n",
        "  writer=csv.writer(f)\n",
        "  writer.writerow(header)\n",
        "  writer.writerows(data[91170:101300])\n",
        "\n",
        "with open('test.csv', 'w') as f:\n",
        "  writer=csv.writer(f)\n",
        "  writer.writerow(header)\n",
        "  writer.writerows(data[70910:91170])"
      ],
      "metadata": {
        "id": "b1c4k5am0GfC"
      },
      "execution_count": null,
      "outputs": []
    },
    {
      "cell_type": "markdown",
      "source": [
        "Si leggono i 3 file CSV usando la libreria **pandas** e, dopo una fase di augmentation tramite **ImageDataGenerator**, si procede al caricamente delle immagini con il metodo *flow_from_dataframe*"
      ],
      "metadata": {
        "id": "WXGcmsuN45Tj"
      }
    },
    {
      "cell_type": "code",
      "source": [
        "from tensorflow import keras\n",
        "from keras import layers\n",
        "from keras_preprocessing.image import ImageDataGenerator\n",
        "from keras import optimizers\n",
        "import pandas as pd\n",
        "\n",
        "#Si utilizza la libreria pandas per leggere il contenuto di un file CSV tramite il metodo read_csv() ottenendo in uscita un oggetto DataFrame ovvero una tabella bidimensionale\n",
        "\n",
        "train_df = pd.read_csv(\"/content/train.csv\")\n",
        "test_df = pd.read_csv(\"/content/test.csv\")\n",
        "valid_df = pd.read_csv(\"/content/valid.csv\")\n",
        "\n",
        "#Si utilizza ImageDataGenerator per specificare le operazioni di augmentation da applicare ai 3 data_set (normalizzazione, rotazione random,\n",
        "#ridimensionamento, traslazioni verticali e orizzontali)\n",
        "\n",
        "train_datagen = ImageDataGenerator(rescale=1./255, rotation_range=10, zoom_range=[0.9,1.1], width_shift_range=0.05, height_shift_range=0.05)\n",
        "test_datagen = ImageDataGenerator(rescale=1./255)\n",
        "valid_datagen = ImageDataGenerator(rescale=1./255)\n",
        "\n",
        "#Si utilizza il metodo flow_from_dataframe specificando: il DataFrame da cui leggere i valori degli attributi e il percorso alla cartella contenente le immagini\n",
        "#per generare i batch di dati normalizzati e modificati tramite augmentation. Restituisce un DataFrameIterator contenente delle tuple caratterizzate dai batch\n",
        "#delle immagini e le corrispondenti labels/attributi\n",
        "\n",
        "train_generator = train_datagen.flow_from_dataframe(\n",
        "    dataframe=train_df,\n",
        "    directory='/content/img_align_celeba',\n",
        "    x_col=\"File_name\",\n",
        "    y_col=header[1:],\n",
        "    class_mode=\"raw\",\n",
        "    batch_size = 32,\n",
        "    shuffle=True,\n",
        "    target_size=(320,320)\n",
        ")\n",
        "test_generator = test_datagen.flow_from_dataframe(\n",
        "    dataframe=test_df,\n",
        "    directory='/content/img_align_celeba',\n",
        "    x_col=\"File_name\",\n",
        "    y_col=header[1:],\n",
        "    class_mode=\"raw\",\n",
        "    batch_size = 32,\n",
        "    shuffle=False,  #Per il test set bisogna settarlo a False perchè le immagini vanno presentate in ordine per poter essere associate correttamente ai rispettivi nomi dei file\n",
        "    target_size=(320,320)\n",
        ")\n",
        "valid_generator = valid_datagen.flow_from_dataframe(\n",
        "    dataframe=valid_df,\n",
        "    directory='/content/img_align_celeba',\n",
        "    x_col=\"File_name\",\n",
        "    y_col=header[1:],\n",
        "    class_mode=\"raw\",\n",
        "    batch_size = 32,\n",
        "    shuffle=True,\n",
        "    target_size=(320,320)\n",
        ")\n",
        "\n",
        "#N.B. Le class_mode sono tutte impostate a raw in quanto sono solo di tipo numerico (nel nostro caso 0 o 1)"
      ],
      "metadata": {
        "id": "-5I1crBni0Q6",
        "colab": {
          "base_uri": "https://localhost:8080/"
        },
        "outputId": "74ca4bfe-858d-4b17-f403-851151438f4a"
      },
      "execution_count": null,
      "outputs": [
        {
          "output_type": "stream",
          "name": "stdout",
          "text": [
            "Found 70910 validated image filenames.\n",
            "Found 20260 validated image filenames.\n",
            "Found 10128 validated image filenames.\n"
          ]
        }
      ]
    },
    {
      "cell_type": "markdown",
      "source": [
        "**3. Definizione dell'architettura di EfficientNetB3**"
      ],
      "metadata": {
        "id": "2n47NXzal5iy"
      }
    },
    {
      "cell_type": "markdown",
      "source": [
        "Utilizziamo la funzione **EfficientNetB3** di **Keras** per costruire l'architettura di rete neurale alla quale aggiungiamo uno strato di *GlobalAveragePooling2D* e uno strato finale Dense per ottenere in uscita i 40 attributi"
      ],
      "metadata": {
        "id": "CRL9KlQj68NW"
      }
    },
    {
      "cell_type": "code",
      "source": [
        "base_model = keras.applications.EfficientNetB3 (weights='imagenet', input_shape=(320,320,3), include_top=False)\n",
        "\n",
        "#Essendo EfficientNetB3 un modello già pre-addestrato carichimo i pesi da ImageNet ed escludiamo i livelli densi per effettuare il fine-tuning\n",
        "\n",
        "model = keras.models.Sequential()\n",
        "model.add(base_model)\n",
        "model.add(layers.GlobalAveragePooling2D())\n",
        "\n",
        "#Aggiungiamo un livello denso a 40 uscite per le nostre esigenze\n",
        "\n",
        "model.add(layers.Dense(40,activation='sigmoid'))\n",
        "\n",
        "#N.B. La funzione sigmoide è efficiente per classificazione binaria\n",
        "\n",
        "model.summary()"
      ],
      "metadata": {
        "id": "tRiXTOeGmNhy",
        "colab": {
          "base_uri": "https://localhost:8080/"
        },
        "outputId": "939b0b05-29bb-4133-82a8-16a91a808f25"
      },
      "execution_count": null,
      "outputs": [
        {
          "output_type": "stream",
          "name": "stdout",
          "text": [
            "Downloading data from https://storage.googleapis.com/keras-applications/efficientnetb3_notop.h5\n",
            "43941888/43941136 [==============================] - 0s 0us/step\n",
            "43950080/43941136 [==============================] - 0s 0us/step\n",
            "Model: \"sequential\"\n",
            "_________________________________________________________________\n",
            " Layer (type)                Output Shape              Param #   \n",
            "=================================================================\n",
            " efficientnetb3 (Functional)  (None, 10, 10, 1536)     10783535  \n",
            "                                                                 \n",
            " global_average_pooling2d (G  (None, 1536)             0         \n",
            " lobalAveragePooling2D)                                          \n",
            "                                                                 \n",
            " dense (Dense)               (None, 40)                61480     \n",
            "                                                                 \n",
            "=================================================================\n",
            "Total params: 10,845,015\n",
            "Trainable params: 10,757,712\n",
            "Non-trainable params: 87,303\n",
            "_________________________________________________________________\n"
          ]
        }
      ]
    },
    {
      "cell_type": "markdown",
      "source": [
        "**4. Addestramento della rete**"
      ],
      "metadata": {
        "id": "pzqDIP9su-dP"
      }
    },
    {
      "cell_type": "markdown",
      "source": [
        "Si addestra la rete con una tecnica di **fine-tuning** (addestrando solo 140 livelli di 210), utilizzando l'ottimizzatore **Adam**, una loss function di *Binary Crossentropy* e come metrica l'*Area Under roc Curve*. Tali parametri sono stati scelti in quanto concepiti appositamente per problemi di classificazione binaria"
      ],
      "metadata": {
        "id": "5KCCidL6GOSb"
      }
    },
    {
      "cell_type": "code",
      "source": [
        "#Blocchiamo il training di 70 livelli (empiricamente abbiamo ottenuto i risultati migliori)\n",
        "\n",
        "num_levels = 70\n",
        "for level in base_model.layers[0:num_levels]:\n",
        "  level.trainable=False\n",
        "model.summary()\n",
        "\n",
        "model.compile(loss=keras.losses.binary_crossentropy, optimizer=keras.optimizers.Adam(learning_rate=0.001), metrics=['AUC',])\n",
        "dat = model.fit(train_generator, epochs=5, steps_per_epoch=443, validation_data=valid_generator, verbose=1)\n",
        "model.save_weights('new_weights2.h5')"
      ],
      "metadata": {
        "id": "C90yyiUavC8C",
        "colab": {
          "base_uri": "https://localhost:8080/"
        },
        "outputId": "68798ef2-0a14-47d3-8851-0fa915534e24"
      },
      "execution_count": null,
      "outputs": [
        {
          "output_type": "stream",
          "name": "stdout",
          "text": [
            "Model: \"sequential\"\n",
            "_________________________________________________________________\n",
            " Layer (type)                Output Shape              Param #   \n",
            "=================================================================\n",
            " efficientnetb3 (Functional)  (None, 10, 10, 1536)     10783535  \n",
            "                                                                 \n",
            " global_average_pooling2d (G  (None, 1536)             0         \n",
            " lobalAveragePooling2D)                                          \n",
            "                                                                 \n",
            " dense (Dense)               (None, 40)                61480     \n",
            "                                                                 \n",
            "=================================================================\n",
            "Total params: 10,845,015\n",
            "Trainable params: 10,704,994\n",
            "Non-trainable params: 140,021\n",
            "_________________________________________________________________\n",
            "Epoch 1/5\n",
            "443/443 [==============================] - 520s 1s/step - loss: 0.2977 - auc: 0.9088 - val_loss: 0.2823 - val_auc: 0.9221\n",
            "Epoch 2/5\n",
            "443/443 [==============================] - 474s 1s/step - loss: 0.2431 - auc: 0.9427 - val_loss: 0.2446 - val_auc: 0.9431\n",
            "Epoch 3/5\n",
            "443/443 [==============================] - 466s 1s/step - loss: 0.2300 - auc: 0.9489 - val_loss: 0.2493 - val_auc: 0.9409\n",
            "Epoch 4/5\n",
            "443/443 [==============================] - 468s 1s/step - loss: 0.2230 - auc: 0.9526 - val_loss: 0.2593 - val_auc: 0.9360\n",
            "Epoch 5/5\n",
            "443/443 [==============================] - 463s 1s/step - loss: 0.2182 - auc: 0.9545 - val_loss: 0.2410 - val_auc: 0.9495\n"
          ]
        }
      ]
    },
    {
      "cell_type": "code",
      "source": [
        "#Si visualizzano gli andamenti delle loss sui dati di training e validation per ogni epoca\n",
        "\n",
        "plt.figure(figsize=[10,5])\n",
        "loss_train = dat.history['loss']\n",
        "loss_val = dat.history['val_loss']\n",
        "epochs = range(1,6)\n",
        "plt.plot(epochs, loss_train, 'g', label='Training loss')\n",
        "plt.plot(epochs, loss_val, 'b', label='validation loss')\n",
        "plt.title('Training and Validation loss')\n",
        "plt.xlabel('Epochs')\n",
        "plt.ylabel('Loss')\n",
        "plt.legend()\n",
        "plt.show()"
      ],
      "metadata": {
        "id": "DyVoefpjYvFw",
        "colab": {
          "base_uri": "https://localhost:8080/",
          "height": 350
        },
        "outputId": "4449a10b-6350-45d3-b920-eb7deed4a64d"
      },
      "execution_count": null,
      "outputs": [
        {
          "output_type": "display_data",
          "data": {
            "text/plain": [
              "<Figure size 720x360 with 1 Axes>"
            ],
            "image/png": "[encoded data removed]"
          },
          "metadata": {
            "needs_background": "light"
          }
        }
      ]
    },
    {
      "cell_type": "code",
      "source": [
        "#Si visualizzano gli andamenti delle AUC sui dati di training e validation per ogni epoca\n",
        "\n",
        "plt.figure(figsize=[10,5])\n",
        "auc_train = dat.history['auc']\n",
        "auc_val = dat.history['val_auc']\n",
        "epochs = range(1,6)\n",
        "plt.plot(epochs, auc_train, 'g', label='Training AUC')\n",
        "plt.plot(epochs, auc_val, 'b', label='Validation AUC')\n",
        "plt.title('Training and Validation AUC')\n",
        "plt.xlabel('Epochs')\n",
        "plt.ylabel('AUC')\n",
        "plt.legend()\n",
        "plt.show()"
      ],
      "metadata": {
        "id": "LYDHvVNs0SOQ",
        "colab": {
          "base_uri": "https://localhost:8080/",
          "height": 350
        },
        "outputId": "b7159d86-033e-4cea-adc0-e264b59ca000"
      },
      "execution_count": null,
      "outputs": [
        {
          "output_type": "display_data",
          "data": {
            "text/plain": [
              "<Figure size 720x360 with 1 Axes>"
            ],
            "image/png": "[encoded data removed]"
          },
          "metadata": {
            "needs_background": "light"
          }
        }
      ]
    },
    {
      "cell_type": "code",
      "source": [
        "#N.B. Le seguenti istruzioni servono per caricare i pesi della rete preventivamente ed evitare di eseguire\n",
        "#l'addestramento ogni volta. Se si effettua il fit nel blocco di codice precedente non eseguire il corrente blocco di codice.\n",
        "\n",
        "'''\n",
        "num_levels = 70\n",
        "for level in base_model.layers[0:num_levels]:\n",
        "  level.trainable=False\n",
        "model.summary()\n",
        "model.compile(loss=keras.losses.binary_crossentropy, optimizer=keras.optimizers.Adam(learning_rate=0.001), metrics=['AUC',])\n",
        "model.load_weights('/content/drive/MyDrive/Progetto/weights1.h5')\n",
        "'''"
      ],
      "metadata": {
        "id": "TLpkvxzwXqUf",
        "colab": {
          "base_uri": "https://localhost:8080/",
          "height": 54
        },
        "outputId": "d277d3d4-6eb9-4788-b9a8-5441b21eff63"
      },
      "execution_count": null,
      "outputs": [
        {
          "output_type": "execute_result",
          "data": {
            "text/plain": [
              "\"\\nnum_levels = 70\\nfor level in base_model.layers[0:num_levels]:\\n  level.trainable=False\\nmodel.summary()\\nmodel.compile(loss=keras.losses.binary_crossentropy, optimizer=keras.optimizers.Adam(learning_rate=0.001), metrics=['AUC',])\\nmodel.load_weights('/content/drive/MyDrive/Progetto/weights1.h5')\\n\""
            ],
            "application/vnd.google.colaboratory.intrinsic+json": {
              "type": "string"
            }
          },
          "metadata": {},
          "execution_count": 11
        }
      ]
    },
    {
      "cell_type": "markdown",
      "source": [
        "**5. Valutazione delle prestazioni**"
      ],
      "metadata": {
        "id": "qlS_O2D9OQL9"
      }
    },
    {
      "cell_type": "markdown",
      "source": [
        "Si valutano le prestazioni della rete appena addestrata sul test-set tramite la funzione *sklearn.metrics.roc_auc_score*"
      ],
      "metadata": {
        "id": "6_lGndQzLNgb"
      }
    },
    {
      "cell_type": "code",
      "source": [
        "from sklearn.metrics import roc_auc_score, confusion_matrix\n",
        "import tqdm\n",
        "\n",
        "#Creiamo due liste in cui conserviamo le etichette dei 40 attributi effettivi (y_true) di ogni immagine del test-set,\n",
        "#e altre 40 etichette ottenute invece dalla predizione della rete (y_pred) delle stesse immagini\n",
        "\n",
        "y_true = list()\n",
        "y_pred = list()\n",
        "test_generator.reset()\n",
        "\n",
        "for _ in tqdm.tqdm(range(len(test_generator))):\n",
        "  x_t, y_t = next(test_generator)\n",
        "  p_t = model.predict(x_t)\n",
        "  y_true.append(y_t)\n",
        "  y_pred.append(p_t)\n",
        "y_true = np.concatenate(y_true,0)\n",
        "y_pred = np.concatenate(y_pred,0)\n",
        "\n",
        "#Dal momento che abbiamo 40 attributi su cui valutare l'area under roc curve eseguiamo 40 cicli in cui calcoliamo le performance per ogni immagine rispetto ogni attributo\n"
      ],
      "metadata": {
        "id": "Y3Pqt40fOP0S",
        "colab": {
          "base_uri": "https://localhost:8080/"
        },
        "outputId": "b53ad82c-7ecb-4c41-f092-0e0f95239e99"
      },
      "execution_count": null,
      "outputs": [
        {
          "output_type": "stream",
          "name": "stderr",
          "text": [
            "100%|██████████| 634/634 [03:59<00:00,  2.64it/s]\n"
          ]
        }
      ]
    },
    {
      "cell_type": "code",
      "source": [
        "#Si stampano i risultati di performance (roc_auc_score) confrontando i valori ottenuti dalla predizione rispetto la ground truth per ogni attributo\n",
        "\n",
        "result = list()\n",
        "for i in range(40):\n",
        "  auc = roc_auc_score(y_true=y_true[:,i], y_score=y_pred[:,i])\n",
        "  result.append(auc)\n",
        "  print(header[i+1], ': ',auc)\n"
      ],
      "metadata": {
        "id": "pTUPA45EqHZ3",
        "colab": {
          "base_uri": "https://localhost:8080/"
        },
        "outputId": "8b1687b9-d244-406c-a80a-c1f2a7f8d908"
      },
      "execution_count": null,
      "outputs": [
        {
          "output_type": "stream",
          "name": "stdout",
          "text": [
            "5_o_Clock_Shadow :  0.9479000258234676\n",
            "Arched_Eyebrows :  0.8983807148610471\n",
            "Attractive :  0.8987714318909857\n",
            "Bags_Under_Eyes :  0.8610047175712967\n",
            "Bald :  0.9940224466101396\n",
            "Bangs :  0.9837656400503855\n",
            "Big_Lips :  0.7495922055021287\n",
            "Big_Nose :  0.8665228757579726\n",
            "Black_Hair :  0.9386253912155674\n",
            "Blond_Hair :  0.9790454561125748\n",
            "Blurry :  0.9525482310998907\n",
            "Brown_Hair :  0.8635099787485313\n",
            "Bushy_Eyebrows :  0.926489317968549\n",
            "Chubby :  0.9433815499179241\n",
            "Double_Chin :  0.9542397070782912\n",
            "Eyeglasses :  0.9980490393248899\n",
            "Goatee :  0.9799760211461633\n",
            "Gray_Hair :  0.9789701815130725\n",
            "Heavy_Makeup :  0.9734549685286007\n",
            "High_Cheekbones :  0.9464479370220166\n",
            "Male :  0.9968593126003061\n",
            "Mouth_Slightly_Open :  0.9768915389963655\n",
            "Mustache :  0.9659381986778065\n",
            "Narrow_Eyes :  0.8557370286773602\n",
            "No_Beard :  0.9773843759992811\n",
            "Oval_Face :  0.7116872721203787\n",
            "Pale_Skin :  0.9081223511664878\n",
            "Pointy_Nose :  0.7817447887102791\n",
            "Receding_Hairline :  0.9382461455903903\n",
            "Rosy_Cheeks :  0.9499490412930711\n",
            "Sideburns :  0.9801852818371608\n",
            "Smiling :  0.9773398014393717\n",
            "Straight_Hair :  0.8309450548862072\n",
            "Wavy_Hair :  0.9052661841933117\n",
            "Wearing_Earrings :  0.922693683304213\n",
            "Wearing_Hat :  0.9943594865216507\n",
            "Wearing_Lipstick :  0.9825490195388747\n",
            "Wearing_Necklace :  0.8232150082720355\n",
            "Wearing_Necktie :  0.9785295554281045\n",
            "Young :  0.9146376199890831\n"
          ]
        }
      ]
    },
    {
      "cell_type": "code",
      "source": [
        "#Si visualizzano con un diagramma le performance di predizione rispetto ogni attributo\n",
        "\n",
        "plt.figure(figsize=[50,10])\n",
        "plt.bar(header[1:], result, color = ['orange','royalblue'])"
      ],
      "metadata": {
        "id": "W5yxthPZ4khb",
        "colab": {
          "base_uri": "https://localhost:8080/",
          "height": 366
        },
        "outputId": "9c6ab881-a51e-439b-e274-6c57554a5eed"
      },
      "execution_count": null,
      "outputs": [
        {
          "output_type": "execute_result",
          "data": {
            "text/plain": [
              "<BarContainer object of 40 artists>"
            ]
          },
          "metadata": {},
          "execution_count": 14
        },
        {
          "output_type": "display_data",
          "data": {
            "text/plain": [
              "<Figure size 3600x720 with 1 Axes>"
            ],
            "image/png": "[encoded data removed]"
          },
          "metadata": {
            "needs_background": "light"
          }
        }
      ]
    }
  ]
}